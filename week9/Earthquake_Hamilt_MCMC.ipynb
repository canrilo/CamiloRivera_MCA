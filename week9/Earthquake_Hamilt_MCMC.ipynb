{
 "cells": [
  {
   "cell_type": "code",
   "execution_count": 1,
   "metadata": {
    "collapsed": false
   },
   "outputs": [
    {
     "name": "stdout",
     "output_type": "stream",
     "text": [
      "Populating the interactive namespace from numpy and matplotlib\n"
     ]
    }
   ],
   "source": [
    "import numpy as np\n",
    "import matplotlib.pyplot as plt\n",
    "%pylab inline"
   ]
  },
  {
   "cell_type": "code",
   "execution_count": 2,
   "metadata": {
    "collapsed": false
   },
   "outputs": [],
   "source": [
    "def likelihook(x,y,z):\n",
    "    return exp(-q**2)"
   ]
  },
  {
   "cell_type": "code",
   "execution_count": 3,
   "metadata": {
    "collapsed": true
   },
   "outputs": [],
   "source": [
    "def loglike(x,y,z):\n",
    "    \n",
    "    return -"
   ]
  },
  {
   "cell_type": "code",
   "execution_count": 4,
   "metadata": {
    "collapsed": true
   },
   "outputs": [],
   "source": [
    "def deriv_loglike(q): #IMPORTANTE=> ESTO ES -U! YA NO HAY QUE PONER EL - EN EL HAMILTONIANO\n",
    "    return -2.0*q"
   ]
  },
  {
   "cell_type": "code",
   "execution_count": 5,
   "metadata": {
    "collapsed": true
   },
   "outputs": [],
   "source": [
    "def leapfrop_step(dt, t_steps, q,p):\n",
    "    q_new = q\n",
    "    p_new = p + 0.5*dt*deriv_loglike(q) #- dU/dq\n",
    "    for i in range(t_steps):\n",
    "        q_new += dt*p_new\n",
    "        p_new += dt*deriv_loglike(q)\n",
    "    return q_new,p_new"
   ]
  },
  {
   "cell_type": "code",
   "execution_count": 6,
   "metadata": {
    "collapsed": true
   },
   "outputs": [],
   "source": [
    "def Hamilt(q,p):\n",
    "    K= 0.5*p**2\n",
    "    U= -loglike(q)\n",
    "    return K+U"
   ]
  },
  {
   "cell_type": "code",
   "execution_count": 8,
   "metadata": {
    "collapsed": false
   },
   "outputs": [],
   "source": [
    "def MCMC(tot_steps,dt,steps):\n",
    "    q_vec=np.zeros(tot_steps)\n",
    "    P_vec=np.zeros(tot_steps)\n",
    "    q_vec[0] = np.random.normal(0,1)   \n",
    "    p_vec[0] = np.random.normal(0,1)\n",
    "    \n",
    "    for i in range(1,tot_steps):\n",
    "        p[i]= np.random.normal(0,1)\n",
    "        q,p =leapfrog(q_vec[i-1],p_vec[i-1])\n",
    "        Ham_old = Hamilt(q,p)\n",
    "        Ham_new = Hamilt(q_vec[i-1],p_vec[i-1])\n",
    "        alpha = min(1.0,np.exp(-Ham_new + Ham_old))\n",
    "        beta = np.random.random()\n",
    "        if beta < alpha:\n",
    "            q[i] = q_new\n",
    "        else:\n",
    "            q[i] = q[i-1]\n",
    "    return q\n"
   ]
  },
  {
   "cell_type": "code",
   "execution_count": null,
   "metadata": {
    "collapsed": true
   },
   "outputs": [],
   "source": []
  }
 ],
 "metadata": {
  "kernelspec": {
   "display_name": "Python 2",
   "language": "python",
   "name": "python2"
  },
  "language_info": {
   "codemirror_mode": {
    "name": "ipython",
    "version": 2
   },
   "file_extension": ".py",
   "mimetype": "text/x-python",
   "name": "python",
   "nbconvert_exporter": "python",
   "pygments_lexer": "ipython2",
   "version": "2.7.13"
  }
 },
 "nbformat": 4,
 "nbformat_minor": 2
}
