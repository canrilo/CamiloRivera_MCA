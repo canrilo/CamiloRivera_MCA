{
 "cells": [
  {
   "cell_type": "code",
   "execution_count": 51,
   "metadata": {
    "collapsed": false
   },
   "outputs": [
    {
     "name": "stdout",
     "output_type": "stream",
     "text": [
      "Populating the interactive namespace from numpy and matplotlib\n"
     ]
    }
   ],
   "source": [
    "%pylab inline\n",
    "import warnings\n",
    "warnings.simplefilter('ignore', np.RankWarning)"
   ]
  },
  {
   "cell_type": "code",
   "execution_count": 76,
   "metadata": {
    "collapsed": false
   },
   "outputs": [],
   "source": [
    "with open('fake_regression.txt','r') as infile:\n",
    "    x=[[float(dato) for dato in line.rstrip().split(' ')] for line in infile]\n",
    "\n",
    "x=array(x)\n",
    "num_data=shape(x)[0]\n",
    "num_training = int(round(0.75*num_data))\n",
    "num_test = num_data-num_training\n",
    "\n",
    "training_index = array(random.permutation(num_data)[:num_training])\n",
    "test_index = array(list(set(arange(num_data))-set(training_index)))\n",
    "\n",
    "Datos_training = x[training_index,:]\n",
    "Datos_test = x[test_index,:]"
   ]
  },
  {
   "cell_type": "code",
   "execution_count": 77,
   "metadata": {
    "collapsed": false
   },
   "outputs": [],
   "source": [
    "def get_error(data,p):\n",
    "    error = sum((data[:,1]-polyval(p,data[:,0]))**2)\n",
    "    return error"
   ]
  },
  {
   "cell_type": "code",
   "execution_count": 100,
   "metadata": {
    "collapsed": false
   },
   "outputs": [],
   "source": [
    "Num_fits = 20\n",
    "Error_fit=zeros(Num_fits)\n",
    "Bias_fit=zeros(Num_fits)\n",
    "#plot(Datos_training[:,0],Datos_training[:,1],'.b')\n",
    "\n",
    "for i in range(1,Num_fits+1):\n",
    "    p = polyfit(Datos_training[:,0],Datos_training[:,1], i)\n",
    "    e = get_error(Datos_training,p)\n",
    "    b = get_error(Datos_test,p)\n",
    "    Error_fit[i-1]=e\n",
    "    Bias_fit[i-1]=b\n",
    "    #plot(Datos_training[:,0],polyval(p,Datos_training[:,0]),'.',label=str(i))\n",
    "#legend()\n"
   ]
  },
  {
   "cell_type": "code",
   "execution_count": 92,
   "metadata": {
    "collapsed": false
   },
   "outputs": [
    {
     "data": {
      "text/plain": [
       "<matplotlib.legend.Legend at 0x7eff3a1e5910>"
      ]
     },
     "execution_count": 92,
     "metadata": {},
     "output_type": "execute_result"
    },
    {
     "data": {
      "image/png": "[encoded data removed]",
      "text/plain": [
       "<matplotlib.figure.Figure at 0x7eff3a345c50>"
      ]
     },
     "metadata": {},
     "output_type": "display_data"
    }
   ],
   "source": [
    "plot(range(1,Num_fits+1),Error_fit,'b',label='Error')\n",
    "plot(range(1,Num_fits+1),Bias_fit,'r',label='Bias')\n",
    "plot(range(1,Num_fits+1),Bias_fit+Error_fit,'g',label='Sum')\n",
    "legend()"
   ]
  },
  {
   "cell_type": "code",
   "execution_count": 96,
   "metadata": {
    "collapsed": false
   },
   "outputs": [
    {
     "data": {
      "text/plain": [
       "[<matplotlib.lines.Line2D at 0x7eff3a834390>]"
      ]
     },
     "execution_count": 96,
     "metadata": {},
     "output_type": "execute_result"
    },
    {
     "data": {
      "image/png": "[encoded data removed]",
      "text/plain": [
       "<matplotlib.figure.Figure at 0x7eff3a139d50>"
      ]
     },
     "metadata": {},
     "output_type": "display_data"
    }
   ],
   "source": [
    "plot(x[:,0],x[:,1],'.')"
   ]
  },
  {
   "cell_type": "code",
   "execution_count": null,
   "metadata": {
    "collapsed": false
   },
   "outputs": [],
   "source": []
  },
  {
   "cell_type": "code",
   "execution_count": null,
   "metadata": {
    "collapsed": true
   },
   "outputs": [],
   "source": []
  }
 ],
 "metadata": {
  "kernelspec": {
   "display_name": "Python 2",
   "language": "python",
   "name": "python2"
  },
  "language_info": {
   "codemirror_mode": {
    "name": "ipython",
    "version": 2
   },
   "file_extension": ".py",
   "mimetype": "text/x-python",
   "name": "python",
   "nbconvert_exporter": "python",
   "pygments_lexer": "ipython2",
   "version": "2.7.12"
  }
 },
 "nbformat": 4,
 "nbformat_minor": 0
}
