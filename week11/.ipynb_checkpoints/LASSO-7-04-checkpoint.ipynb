{
 "cells": [
  {
   "cell_type": "code",
   "execution_count": 9,
   "metadata": {
    "collapsed": false
   },
   "outputs": [],
   "source": [
    "import pandas as pd\n",
    "import numpy as np\n",
    "import matplotlib.pyplot as plt\n",
    "import seaborn as sns\n",
    "from sklearn.model_selection import train_test_split\n",
    "from sklearn.model_selection import cross_val_score\n",
    "from sklearn import preprocessing\n",
    "from sklearn import linear_model\n",
    "%matplotlib inline"
   ]
  },
  {
   "cell_type": "code",
   "execution_count": 2,
   "metadata": {
    "collapsed": false
   },
   "outputs": [],
   "source": [
    "def calc_lasso(X_train, Y_train,X_test, Y_test,alph):\n",
    "    clf = linear_model.Lasso(alpha=alph)\n",
    "    clf.fit(X_train, Y_train)\n",
    "    r_test=clf.score(X_test, Y_test)\n",
    "    r_train=clf.score(X_train, Y_train)\n",
    "    return {'intercepto':clf.intercept_, 'coefs':clf.coef_, 'R_test':r_test,'R_train':r_train}"
   ]
  },
  {
   "cell_type": "code",
   "execution_count": 10,
   "metadata": {
    "collapsed": false
   },
   "outputs": [],
   "source": [
    "data = pd.read_csv('http://www-bcf.usc.edu/~gareth/ISL/Credit.csv', index_col=0)\n",
    "X=data[['Income', 'Limit', 'Rating', 'Cards', 'Age', 'Education']]\n",
    "Y=data['Balance']\n",
    "\n",
    "#-----------------------------------------__\n",
    "Norm = 0\n",
    "quantity=15\n",
    "alphas=2*np.logspace(0.5,4.0,num=quantity)\n",
    "results = np.zeros([quantity,9])\n",
    "\n",
    "if Norm==1:\n",
    "    scalerx = preprocessing.StandardScaler().fit(X)\n",
    "    X=scalerx.transform(X)\n",
    "    devstd=np.std(Y)\n",
    "    Y=Y-np.mean(Y)\n",
    "    Y=Y/(devstd)\n",
    "    \n",
    "X_train, X_test, Y_train, Y_test = train_test_split(X, Y, random_state=1)\n",
    "i=0\n",
    "for al in alphas:\n",
    "    res = calc_lasso(X_train, Y_train,X_test, Y_test,al)\n",
    "    results[i,0] = res['intercepto']\n",
    "    results[i,1:7] = res['coefs']\n",
    "    results[i,7] = res['R_test']\n",
    "    results[i,8] = res['R_train']\n",
    "    i+=1\n"
   ]
  },
  {
   "cell_type": "code",
   "execution_count": 11,
   "metadata": {
    "collapsed": false
   },
   "outputs": [
    {
     "data": {
      "text/plain": [
       "<matplotlib.legend.Legend at 0x7f9959c1f650>"
      ]
     },
     "execution_count": 11,
     "metadata": {},
     "output_type": "execute_result"
    },
    {
     "data": {
      "image/png": "[encoded data removed]",
      "text/plain": [
       "<matplotlib.figure.Figure at 0x7f9959c7ec50>"
      ]
     },
     "metadata": {},
     "output_type": "display_data"
    }
   ],
   "source": [
    "plt.semilogx(alphas,results[:,7],label='Bias')\n",
    "plt.semilogx(alphas,results[:,8],label='Error')\n",
    "plt.legend()"
   ]
  },
  {
   "cell_type": "code",
   "execution_count": 12,
   "metadata": {
    "collapsed": false
   },
   "outputs": [
    {
     "data": {
      "text/plain": [
       "[<matplotlib.lines.Line2D at 0x7f995d9632d0>,\n",
       " <matplotlib.lines.Line2D at 0x7f9959849dd0>,\n",
       " <matplotlib.lines.Line2D at 0x7f9959849ed0>,\n",
       " <matplotlib.lines.Line2D at 0x7f9959856050>,\n",
       " <matplotlib.lines.Line2D at 0x7f9959856190>,\n",
       " <matplotlib.lines.Line2D at 0x7f99598562d0>]"
      ]
     },
     "execution_count": 12,
     "metadata": {},
     "output_type": "execute_result"
    },
    {
     "data": {
      "image/png": "[encoded data removed]",
      "text/plain": [
       "<matplotlib.figure.Figure at 0x7f9959c7e8d0>"
      ]
     },
     "metadata": {},
     "output_type": "display_data"
    }
   ],
   "source": [
    "plt.semilogx(alphas,results[:,1:7])"
   ]
  },
  {
   "cell_type": "code",
   "execution_count": 13,
   "metadata": {
    "collapsed": false
   },
   "outputs": [
    {
     "data": {
      "text/plain": [
       "array([[-7.15532607,  0.08513482,  2.60576192,  7.56367341, -0.83075659,\n",
       "         1.86915295],\n",
       "       [-7.15697148,  0.07293623,  2.78838241,  4.10171594, -0.80753498,\n",
       "         1.35224815],\n",
       "       [-7.15253339,  0.05964496,  2.98617329,  0.        , -0.7694637 ,\n",
       "         0.42999251],\n",
       "       [-7.12014472,  0.06773551,  2.85973962,  0.        , -0.71867315,\n",
       "         0.        ],\n",
       "       [-7.06241541,  0.08103685,  2.65110716,  0.        , -0.63244802,\n",
       "         0.        ],\n",
       "       [-6.95923857,  0.10372887,  2.29419701,  0.        , -0.47940165,\n",
       "         0.        ],\n",
       "       [-6.77294363,  0.13885178,  1.7361896 ,  0.        , -0.20879819,\n",
       "         0.        ],\n",
       "       [-6.41485916,  0.20186389,  0.73451541,  0.        , -0.        ,\n",
       "         0.        ],\n",
       "       [-5.76413023,  0.24356494,  0.        ,  0.        , -0.        ,\n",
       "         0.        ],\n",
       "       [-4.64475421,  0.23023424,  0.        ,  0.        , -0.        ,\n",
       "         0.        ],\n",
       "       [-2.65415887,  0.20652814,  0.        ,  0.        , -0.        ,\n",
       "         0.        ],\n",
       "       [-0.        ,  0.17484149,  0.        ,  0.        , -0.        ,\n",
       "         0.        ],\n",
       "       [-0.        ,  0.17428618,  0.        ,  0.        , -0.        ,\n",
       "         0.        ],\n",
       "       [-0.        ,  0.17329867,  0.        ,  0.        , -0.        ,\n",
       "         0.        ],\n",
       "       [-0.        ,  0.17154261,  0.        ,  0.        , -0.        ,\n",
       "         0.        ]])"
      ]
     },
     "execution_count": 13,
     "metadata": {},
     "output_type": "execute_result"
    }
   ],
   "source": [
    "results[:,1:7]"
   ]
  },
  {
   "cell_type": "code",
   "execution_count": 14,
   "metadata": {
    "collapsed": false
   },
   "outputs": [
    {
     "data": {
      "text/html": [
       "<div>\n",
       "<table border=\"1\" class=\"dataframe\">\n",
       "  <thead>\n",
       "    <tr style=\"text-align: right;\">\n",
       "      <th></th>\n",
       "      <th>Income</th>\n",
       "      <th>Limit</th>\n",
       "      <th>Rating</th>\n",
       "      <th>Cards</th>\n",
       "      <th>Age</th>\n",
       "      <th>Education</th>\n",
       "      <th>Gender</th>\n",
       "      <th>Student</th>\n",
       "      <th>Married</th>\n",
       "      <th>Ethnicity</th>\n",
       "      <th>Balance</th>\n",
       "    </tr>\n",
       "  </thead>\n",
       "  <tbody>\n",
       "    <tr>\n",
       "      <th>1</th>\n",
       "      <td>14.891</td>\n",
       "      <td>3606</td>\n",
       "      <td>283</td>\n",
       "      <td>2</td>\n",
       "      <td>34</td>\n",
       "      <td>11</td>\n",
       "      <td>Male</td>\n",
       "      <td>No</td>\n",
       "      <td>Yes</td>\n",
       "      <td>Caucasian</td>\n",
       "      <td>333</td>\n",
       "    </tr>\n",
       "    <tr>\n",
       "      <th>2</th>\n",
       "      <td>106.025</td>\n",
       "      <td>6645</td>\n",
       "      <td>483</td>\n",
       "      <td>3</td>\n",
       "      <td>82</td>\n",
       "      <td>15</td>\n",
       "      <td>Female</td>\n",
       "      <td>Yes</td>\n",
       "      <td>Yes</td>\n",
       "      <td>Asian</td>\n",
       "      <td>903</td>\n",
       "    </tr>\n",
       "    <tr>\n",
       "      <th>3</th>\n",
       "      <td>104.593</td>\n",
       "      <td>7075</td>\n",
       "      <td>514</td>\n",
       "      <td>4</td>\n",
       "      <td>71</td>\n",
       "      <td>11</td>\n",
       "      <td>Male</td>\n",
       "      <td>No</td>\n",
       "      <td>No</td>\n",
       "      <td>Asian</td>\n",
       "      <td>580</td>\n",
       "    </tr>\n",
       "    <tr>\n",
       "      <th>4</th>\n",
       "      <td>148.924</td>\n",
       "      <td>9504</td>\n",
       "      <td>681</td>\n",
       "      <td>3</td>\n",
       "      <td>36</td>\n",
       "      <td>11</td>\n",
       "      <td>Female</td>\n",
       "      <td>No</td>\n",
       "      <td>No</td>\n",
       "      <td>Asian</td>\n",
       "      <td>964</td>\n",
       "    </tr>\n",
       "    <tr>\n",
       "      <th>5</th>\n",
       "      <td>55.882</td>\n",
       "      <td>4897</td>\n",
       "      <td>357</td>\n",
       "      <td>2</td>\n",
       "      <td>68</td>\n",
       "      <td>16</td>\n",
       "      <td>Male</td>\n",
       "      <td>No</td>\n",
       "      <td>Yes</td>\n",
       "      <td>Caucasian</td>\n",
       "      <td>331</td>\n",
       "    </tr>\n",
       "  </tbody>\n",
       "</table>\n",
       "</div>"
      ],
      "text/plain": [
       "    Income  Limit  Rating  Cards  Age  Education  Gender Student Married  \\\n",
       "1   14.891   3606     283      2   34         11    Male      No     Yes   \n",
       "2  106.025   6645     483      3   82         15  Female     Yes     Yes   \n",
       "3  104.593   7075     514      4   71         11    Male      No      No   \n",
       "4  148.924   9504     681      3   36         11  Female      No      No   \n",
       "5   55.882   4897     357      2   68         16    Male      No     Yes   \n",
       "\n",
       "   Ethnicity  Balance  \n",
       "1  Caucasian      333  \n",
       "2      Asian      903  \n",
       "3      Asian      580  \n",
       "4      Asian      964  \n",
       "5  Caucasian      331  "
      ]
     },
     "execution_count": 14,
     "metadata": {},
     "output_type": "execute_result"
    }
   ],
   "source": [
    "data.head()"
   ]
  },
  {
   "cell_type": "code",
   "execution_count": null,
   "metadata": {
    "collapsed": true
   },
   "outputs": [],
   "source": []
  }
 ],
 "metadata": {
  "kernelspec": {
   "display_name": "Python 2",
   "language": "python",
   "name": "python2"
  },
  "language_info": {
   "codemirror_mode": {
    "name": "ipython",
    "version": 2
   },
   "file_extension": ".py",
   "mimetype": "text/x-python",
   "name": "python",
   "nbconvert_exporter": "python",
   "pygments_lexer": "ipython2",
   "version": "2.7.13"
  }
 },
 "nbformat": 4,
 "nbformat_minor": 2
}
