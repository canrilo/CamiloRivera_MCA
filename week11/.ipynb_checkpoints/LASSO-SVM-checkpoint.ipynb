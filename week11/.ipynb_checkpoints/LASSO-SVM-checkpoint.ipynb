{
 "cells": [
  {
   "cell_type": "code",
   "execution_count": 1,
   "metadata": {
    "collapsed": false
   },
   "outputs": [],
   "source": [
    "import pandas as pd\n",
    "import numpy as np\n",
    "import matplotlib.pyplot as plt\n",
    "import seaborn as sns\n",
    "from sklearn.model_selection import train_test_split\n",
    "from sklearn.model_selection import cross_val_score\n",
    "from sklearn import preprocessing\n",
    "from sklearn import linear_model\n",
    "import string\n",
    "from sklearn.svm import SVR\n",
    "from sklearn.metrics import confusion_matrix\n",
    "from sklearn.metrics import mean_squared_error\n",
    "#from sklearn.cross_validation import KFold\n",
    "from sklearn import svm\n",
    "%matplotlib inline"
   ]
  },
  {
   "cell_type": "code",
   "execution_count": 2,
   "metadata": {
    "collapsed": false
   },
   "outputs": [],
   "source": [
    "data = pd.read_csv('http://www-bcf.usc.edu/~gareth/ISL/Credit.csv', index_col=0)\n",
    "X=data[['Income', 'Limit', 'Rating', 'Cards', 'Age', 'Education','Balance']]\n",
    "Y=data['Gender']\n",
    "\n",
    "Y=Y.replace(' Male',0.0)\n",
    "Y=Y.replace('Female',1.0)\n",
    "#-----------------------------------------__\n",
    "#Se realiza el entrenamiento\n",
    "reg = svm.SVC(kernel=\"linear\")\n",
    "scores = cross_val_score(reg, X, Y, cv=5)"
   ]
  },
  {
   "cell_type": "code",
   "execution_count": 7,
   "metadata": {
    "collapsed": false
   },
   "outputs": [
    {
     "name": "stdout",
     "output_type": "stream",
     "text": [
      "[ 0.48148148  0.50617284  0.45        0.48101266  0.49367089]\n",
      "Promedio = 0.482467573058\n"
     ]
    }
   ],
   "source": [
    "print scores\n",
    "print 'Promedio = ' + str(np.mean(scores))"
   ]
  },
  {
   "cell_type": "markdown",
   "metadata": {
    "collapsed": true
   },
   "source": [
    "#### Realizando un análisis inverso, tomando todas las variables numéricas (incluyendo el Balance) como entrada y tratando, a partir de estas, de predecir si se trata de un hombre o una mujer podemos observar resultados diferentes. Usando un kernel lineal para una SVM podemos ver que el promedio de score con cross validation es cercano a 0.5, por lo que es casi cercano al azar. Esto puede decirnos que podemos tomar como indistinguible el género a partir de los datos tomados"
   ]
  },
  {
   "cell_type": "code",
   "execution_count": null,
   "metadata": {
    "collapsed": true
   },
   "outputs": [],
   "source": []
  }
 ],
 "metadata": {
  "kernelspec": {
   "display_name": "Python 2",
   "language": "python",
   "name": "python2"
  },
  "language_info": {
   "codemirror_mode": {
    "name": "ipython",
    "version": 2
   },
   "file_extension": ".py",
   "mimetype": "text/x-python",
   "name": "python",
   "nbconvert_exporter": "python",
   "pygments_lexer": "ipython2",
   "version": "2.7.13"
  }
 },
 "nbformat": 4,
 "nbformat_minor": 2
}
