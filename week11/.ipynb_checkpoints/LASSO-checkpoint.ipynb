{
 "cells": [
  {
   "cell_type": "code",
   "execution_count": 126,
   "metadata": {
    "collapsed": true
   },
   "outputs": [],
   "source": [
    "import pandas as pd\n",
    "import numpy as np\n",
    "import matplotlib.pyplot as plt\n",
    "import seaborn as sns\n",
    "from sklearn.model_selection import train_test_split\n",
    "from sklearn.model_selection import cross_val_score\n",
    "from sklearn import preprocessing\n",
    "from sklearn import linear_model"
   ]
  },
  {
   "cell_type": "code",
   "execution_count": 132,
   "metadata": {
    "collapsed": false
   },
   "outputs": [],
   "source": [
    "data = pd.read_csv('http://www-bcf.usc.edu/~gareth/ISL/Credit.csv', index_col=0)\n",
    "X=data[['Income', 'Limit', 'Rating', 'Cards', 'Age', 'Education']]\n",
    "Y=data['Balance']"
   ]
  },
  {
   "cell_type": "code",
   "execution_count": 133,
   "metadata": {
    "collapsed": false
   },
   "outputs": [],
   "source": [
    "def calc_lasso(X_train, Y_train,X_test, Y_test,alph):\n",
    "    clf = linear_model.Lasso(alpha=alph)\n",
    "    clf.fit(X_train, Y_train)\n",
    "    r_test=clf.score(X_test, Y_test)\n",
    "    r_train=clf.score(X_train, Y_train)\n",
    "    return {'intercepto':clf.intercept_, 'coefs':clf.coef_, 'R_test':r_test,'R_train':r_train}"
   ]
  },
  {
   "cell_type": "code",
   "execution_count": 134,
   "metadata": {
    "collapsed": false
   },
   "outputs": [],
   "source": [
    "Norm = 1\n",
    "quantity=10\n",
    "alphas=2*np.logspace(1.0,3.0,num=quantity)\n",
    "results = np.zeros([quantity,9])\n",
    "\n",
    "if Norm==1:\n",
    "    scalerx = preprocessing.StandardScaler().fit(X)\n",
    "    X=scalerx.transform(X)\n",
    "    varianza=np.std(Y)\n",
    "    Y=Y-np.mean(Y)\n",
    "    Y=Y/(varianza)\n",
    "    \n",
    "X_train, X_test, Y_train, Y_test = train_test_split(X, Y, random_state=1)\n",
    "i=0\n",
    "for al in alphas:\n",
    "    res = calc_lasso(X_train, Y_train,X_test, Y_test,al)\n",
    "    results[i,0] = res['intercepto']\n",
    "    results[i,1:7] = res['coefs']\n",
    "    results[i,7] = res['R_test']\n",
    "    results[i,8] = res['R_train']\n",
    "    i+=1\n"
   ]
  },
  {
   "cell_type": "code",
   "execution_count": 135,
   "metadata": {
    "collapsed": false
   },
   "outputs": [
    {
     "data": {
      "text/plain": [
       "<matplotlib.legend.Legend at 0x7f77cccc9c50>"
      ]
     },
     "execution_count": 135,
     "metadata": {},
     "output_type": "execute_result"
    },
    {
     "data": {
      "image/png": "[encoded data removed]",
      "text/plain": [
       "<matplotlib.figure.Figure at 0x7f77ccd740d0>"
      ]
     },
     "metadata": {},
     "output_type": "display_data"
    }
   ],
   "source": [
    "plt.semilogx(alphas,results[:,7],label='Bias')\n",
    "plt.semilogx(alphas,results[:,8],label='Error')\n",
    "plt.legend()"
   ]
  },
  {
   "cell_type": "code",
   "execution_count": 143,
   "metadata": {
    "collapsed": false
   },
   "outputs": [
    {
     "data": {
      "text/plain": [
       "array([  1.79856130e-16,  -1.59872116e-16,   1.55431223e-17,\n",
       "        -1.27675648e-17,   1.77635684e-16,   2.08721929e-16])"
      ]
     },
     "execution_count": 143,
     "metadata": {},
     "output_type": "execute_result"
    }
   ],
   "source": [
    "np.mean(X, axis=0)"
   ]
  },
  {
   "cell_type": "code",
   "execution_count": null,
   "metadata": {
    "collapsed": true
   },
   "outputs": [],
   "source": []
  }
 ],
 "metadata": {
  "kernelspec": {
   "display_name": "Python 2",
   "language": "python",
   "name": "python2"
  },
  "language_info": {
   "codemirror_mode": {
    "name": "ipython",
    "version": 2
   },
   "file_extension": ".py",
   "mimetype": "text/x-python",
   "name": "python",
   "nbconvert_exporter": "python",
   "pygments_lexer": "ipython2",
   "version": "2.7.13"
  }
 },
 "nbformat": 4,
 "nbformat_minor": 2
}
