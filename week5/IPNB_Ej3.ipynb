{
 "cells": [
  {
   "cell_type": "code",
   "execution_count": 1,
   "metadata": {
    "collapsed": true
   },
   "outputs": [],
   "source": [
    "import numpy as np\n",
    "import matplotlib.pyplot as plt"
   ]
  },
  {
   "cell_type": "code",
   "execution_count": 6,
   "metadata": {
    "collapsed": true
   },
   "outputs": [],
   "source": [
    "def Mac_Cormack(c,gamma,U,F,dx,dt, t_ini,t_fin):\n",
    "    U_temp=U.copy()\n",
    "    F_temp=F.copy()\n",
    "    \n",
    "    U_new=U.copy()\n",
    "    F_new=F.copy()\n",
    "    \n",
    "    t=t_ini\n",
    "    \n",
    "    while t<t_fin:\n",
    "        #print str(t)+':\\n'\n",
    "        U_temp[:,1:-1]=U[:,1:-1]-dt*(F[:,2:]-F[:,1:-1])/dx\n",
    "        F_temp=get_F(U_temp,gamma)\n",
    "        \n",
    "        U_new[:,1:-1]=(U[:,1:-1]+U_temp[:,1:-1]-dt*(F_temp[:,1:-1]-F_temp[:,0:-2])/dx)/2.0\n",
    "        F_new= get_F(U_new,gamma)\n",
    "        \n",
    "        F=F_new.copy()\n",
    "        U=U_new.copy()\n",
    "        \n",
    "        umax=max(np.abs(safe_div(U[1,:],U[0,:])))\n",
    "        if umax!=0.0:\n",
    "            dt=max(1e-3,dx/(c*umax))\n",
    "        dt=min(dt,dx)\n",
    "\n",
    "        t+=dt\n",
    "        #print str(t)+': '+str(dt) +'\\t '+str(umax)\n",
    "    return U "
   ]
  },
  {
   "cell_type": "code",
   "execution_count": 7,
   "metadata": {
    "collapsed": true
   },
   "outputs": [],
   "source": [
    "def get_F(U,gamma):\n",
    "    rho=U[0,:]\n",
    "    #u=U[1,:]/rho\n",
    "    u=safe_div(U[1,:],rho)\n",
    "    e=U[2,:]\n",
    "    p=(gamma-1)*(e-rho*(u**2)/2.0)\n",
    "    F=np.zeros(np.shape(U))\n",
    "    F[0,:]=U[1,:]\n",
    "    F[1,:]=rho*(u**2)+p\n",
    "    F[2,:]=u*(e+p)\n",
    "    #print 'u:\\n'+str(u)\n",
    "    #print 'rho:\\n'+str(rho)\n",
    "    #print 'p:\\n'+str(p)\n",
    "    #raw_input()\n",
    "    return F"
   ]
  },
  {
   "cell_type": "code",
   "execution_count": 4,
   "metadata": {
    "collapsed": true
   },
   "outputs": [],
   "source": [
    "def get_e(gamma, rho,u,p):\n",
    "    u2=u**2\n",
    "    e=p/(gamma-1)+rho*u2/(2.0)\n",
    "    return e\n",
    "\n",
    "def safe_div(num,denom):\n",
    "    ans=num.copy()\n",
    "    for i in range(len(num)):\n",
    "        if denom[i]!=0.0:\n",
    "            ans[i]=num[i]/denom[i]\n",
    "    return ans"
   ]
  },
  {
   "cell_type": "code",
   "execution_count": 8,
   "metadata": {
    "collapsed": false
   },
   "outputs": [
    {
     "name": "stderr",
     "output_type": "stream",
     "text": [
      "/home/canrilo/anaconda2/lib/python2.7/site-packages/ipykernel/__main__.py:10: RuntimeWarning: overflow encountered in multiply\n",
      "/home/canrilo/anaconda2/lib/python2.7/site-packages/ipykernel/__main__.py:12: RuntimeWarning: invalid value encountered in subtract\n",
      "/home/canrilo/anaconda2/lib/python2.7/site-packages/ipykernel/__main__.py:6: RuntimeWarning: overflow encountered in multiply\n",
      "/home/canrilo/anaconda2/lib/python2.7/site-packages/ipykernel/__main__.py:6: RuntimeWarning: invalid value encountered in subtract\n",
      "/home/canrilo/anaconda2/lib/python2.7/site-packages/ipykernel/__main__.py:9: RuntimeWarning: overflow encountered in multiply\n",
      "/home/canrilo/anaconda2/lib/python2.7/site-packages/ipykernel/__main__.py:9: RuntimeWarning: invalid value encountered in add\n",
      "/home/canrilo/anaconda2/lib/python2.7/site-packages/ipykernel/__main__.py:15: RuntimeWarning: invalid value encountered in subtract\n"
     ]
    },
    {
     "data": {
      "image/png": "[encoded data removed]",
      "text/plain": [
       "<matplotlib.figure.Figure at 0x7f9707015650>"
      ]
     },
     "metadata": {},
     "output_type": "display_data"
    }
   ],
   "source": [
    "dx=0.05\n",
    "dt=0.00001\n",
    "tmax=1.0\n",
    "c=2.0\n",
    "xsteps=int(1/dx)+1\n",
    "gamma=1.4\n",
    "x=np.linspace(0,1,xsteps)\n",
    "u=np.zeros(np.shape(x))\n",
    "\n",
    "rho=u.copy()\n",
    "rho[x<=0.5]=1.0\n",
    "rho[x>0.5]=0.125\n",
    "\n",
    "p=u.copy()\n",
    "p[x<=0.5]=1.0\n",
    "p[x>0.5]=0.1\n",
    "\n",
    "e=get_e(gamma,rho,u,p)\n",
    "\n",
    "U_ini=np.zeros([3,np.shape(x)[0]])\n",
    "U_ini[0,:]=rho.copy()\n",
    "U_ini[1,:]=rho*u\n",
    "U_ini[2,:]=e.copy()\n",
    "\n",
    "F_ini=np.zeros([3,np.shape(x)[0]])\n",
    "F_ini[0,:]=u*rho\n",
    "F_ini[1,:]=rho*(u**2)+p\n",
    "F_ini[2,:]=u*(e+p)\n",
    "\n",
    "U_final=Mac_Cormack(c,gamma,U_ini,F_ini,dx,dt,0.0,tmax)\n",
    "\n",
    "rho_final =U_final[0,:]\n",
    "u_final = safe_div(U_final[1,:],rho_final)#U_final[1,:]/rho_final\n",
    "e_final = U_final[2,:]\n",
    "p_final=(gamma-1)*(e_final-rho_final*(u_final**2)/2.0)\n",
    "\n",
    "fig = plt.figure()\n",
    "\n",
    "axu = fig.add_subplot(311)\n",
    "axu.plot(x,u)\n",
    "axu.plot(x,u_final)\n",
    "axu.set_title('u')\n",
    "\n",
    "axp = fig.add_subplot(312)\n",
    "axp.plot(x,p)\n",
    "axp.plot(x,p_final)\n",
    "axp.set_title('p')\n",
    "\n",
    "axr = fig.add_subplot(313)\n",
    "axr.plot(x,rho)\n",
    "axr.plot(x,rho_final)\n",
    "axr.set_title('rho')\n",
    "\n",
    "plt.show()"
   ]
  },
  {
   "cell_type": "code",
   "execution_count": null,
   "metadata": {
    "collapsed": true
   },
   "outputs": [],
   "source": []
  }
 ],
 "metadata": {
  "kernelspec": {
   "display_name": "Python 2",
   "language": "python",
   "name": "python2"
  },
  "language_info": {
   "codemirror_mode": {
    "name": "ipython",
    "version": 2
   },
   "file_extension": ".py",
   "mimetype": "text/x-python",
   "name": "python",
   "nbconvert_exporter": "python",
   "pygments_lexer": "ipython2",
   "version": "2.7.13"
  }
 },
 "nbformat": 4,
 "nbformat_minor": 2
}
