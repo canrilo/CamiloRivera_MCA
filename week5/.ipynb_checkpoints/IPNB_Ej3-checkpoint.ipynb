{
 "cells": [
  {
   "cell_type": "code",
   "execution_count": 1,
   "metadata": {
    "collapsed": true
   },
   "outputs": [],
   "source": [
    "import numpy as np\n",
    "import matplotlib.pyplot as plt"
   ]
  },
  {
   "cell_type": "code",
   "execution_count": 2,
   "metadata": {
    "collapsed": true
   },
   "outputs": [],
   "source": [
    "def Mac_Cormack(c,gamma,U,F,dx,dt, t_ini,t_fin):\n",
    "    U_temp=U.copy()\n",
    "    F_temp=F.copy()\n",
    "    \n",
    "    U_new=U.copy()\n",
    "    F_new=F.copy()\n",
    "    \n",
    "    t=t_ini\n",
    "    \n",
    "    while t<t_fin:\n",
    "        #print str(t)+':\\n'\n",
    "        U_temp[:,1:-1]=U[:,1:-1]-dt*(F[:,2:]-F[:,1:-1])/dx\n",
    "        F_temp=get_F(U_temp,gamma)\n",
    "        \n",
    "        U_new[:,1:-1]=(U[:,1:-1]+U_temp[:,1:-1]-dt*(F_temp[:,1:-1]-F_temp[:,0:-2])/dx)/2.0\n",
    "        F_new= get_F(U_new,gamma)\n",
    "        \n",
    "        F=F_new.copy()\n",
    "        U=U_new.copy()\n",
    "        \n",
    "        umax=max(np.abs(safe_div(U[1,:],U[0,:])))\n",
    "        if umax!=0.0:\n",
    "            dt=max(1e-3,dx/(c*umax))\n",
    "        dt=min(dt,dx)\n",
    "\n",
    "        t+=dt\n",
    "        #print str(t)+': '+str(dt) +'\\t '+str(umax)\n",
    "    return U "
   ]
  },
  {
   "cell_type": "code",
   "execution_count": 3,
   "metadata": {
    "collapsed": true
   },
   "outputs": [],
   "source": [
    "def get_F(U,gamma):\n",
    "    rho=U[0,:]\n",
    "    #u=U[1,:]/rho\n",
    "    u=safe_div(U[1,:],rho)\n",
    "    e=U[2,:]\n",
    "    p=(gamma-1)*(e-rho*(u**2)/2.0)\n",
    "    F=np.zeros(np.shape(U))\n",
    "    F[0,:]=U[1,:]\n",
    "    F[1,:]=rho*(u**2)+p\n",
    "    F[2,:]=u*(e+p)\n",
    "    #print 'u:\\n'+str(u)\n",
    "    #print 'rho:\\n'+str(rho)\n",
    "    #print 'p:\\n'+str(p)\n",
    "    #raw_input()\n",
    "    return F"
   ]
  },
  {
   "cell_type": "code",
   "execution_count": 4,
   "metadata": {
    "collapsed": true
   },
   "outputs": [],
   "source": [
    "def get_e(gamma, rho,u,p):\n",
    "    u2=u**2\n",
    "    e=p/(gamma-1)+rho*u2/(2.0)\n",
    "    return e\n",
    "\n",
    "def safe_div(num,denom):\n",
    "    ans=num.copy()\n",
    "    for i in range(len(num)):\n",
    "        if denom[i]!=0.0:\n",
    "            ans[i]=num[i]/denom[i]\n",
    "    return ans"
   ]
  },
  {
   "cell_type": "code",
   "execution_count": 5,
   "metadata": {
    "collapsed": false
   },
   "outputs": [
    {
     "name": "stdout",
     "output_type": "stream",
     "text": [
      "0.0:\n",
      "\n",
      "u:\n",
      "[ 0.       0.       0.       0.       0.       0.       0.       0.       0.\n",
      "  0.       0.00018  0.       0.       0.       0.       0.       0.       0.\n",
      "  0.       0.       0.     ]\n",
      "rho:\n",
      "[ 1.     1.     1.     1.     1.     1.     1.     1.     1.     1.     1.\n",
      "  0.125  0.125  0.125  0.125  0.125  0.125  0.125  0.125  0.125  0.125]\n",
      "p:\n",
      "[ 1.          1.          1.          1.          1.          1.          1.\n",
      "  1.          1.          1.          0.99999999  0.1         0.1         0.1\n",
      "  0.1         0.1         0.1         0.1         0.1         0.1         0.1       ]\n",
      "\n",
      "u:\n",
      "[  0.00000000e+00   0.00000000e+00   0.00000000e+00   0.00000000e+00\n",
      "   0.00000000e+00   0.00000000e+00   0.00000000e+00   0.00000000e+00\n",
      "   0.00000000e+00   0.00000000e+00   8.99999990e-05   7.19999917e-04\n",
      "   0.00000000e+00   0.00000000e+00   0.00000000e+00   0.00000000e+00\n",
      "   0.00000000e+00   0.00000000e+00   0.00000000e+00   0.00000000e+00\n",
      "   0.00000000e+00]\n",
      "rho:\n",
      "[ 1.          1.          1.          1.          1.          1.          1.\n",
      "  1.          1.          1.          0.99999998  0.12500002  0.125       0.125\n",
      "  0.125       0.125       0.125       0.125       0.125       0.125       0.125     ]\n",
      "p:\n",
      "[ 1.          1.          1.          1.          1.          1.          1.\n",
      "  1.          1.          1.          0.99999997  0.10000001  0.1         0.1\n",
      "  0.1         0.1         0.1         0.1         0.1         0.1         0.1       ]\n",
      "\n",
      "0.05:\n",
      "\n",
      "u:\n",
      "[  0.00000000e+00   0.00000000e+00   0.00000000e+00   0.00000000e+00\n",
      "   0.00000000e+00   0.00000000e+00   0.00000000e+00   0.00000000e+00\n",
      "   0.00000000e+00   1.87216853e-08   9.00089920e-01   7.20097767e-04\n",
      "   0.00000000e+00   0.00000000e+00   0.00000000e+00   0.00000000e+00\n",
      "   0.00000000e+00   0.00000000e+00   0.00000000e+00   0.00000000e+00\n",
      "   0.00000000e+00]\n",
      "rho:\n",
      "[ 1.          1.          1.          1.          1.          1.          1.\n",
      "  1.          1.          0.99991     0.99999998  0.12509002  0.125       0.125\n",
      "  0.125       0.125       0.125       0.125       0.125       0.125       0.125     ]\n",
      "p:\n",
      "[ 1.          1.          1.          1.          1.          1.          1.\n",
      "  1.          1.          0.999874    0.8379928   0.10010081  0.1         0.1\n",
      "  0.1         0.1         0.1         0.1         0.1         0.1         0.1       ]\n"
     ]
    },
    {
     "ename": "KeyboardInterrupt",
     "evalue": "",
     "output_type": "error",
     "traceback": [
      "\u001b[0;31m---------------------------------------------------------------------------\u001b[0m",
      "\u001b[0;31mKeyboardInterrupt\u001b[0m                         Traceback (most recent call last)",
      "\u001b[0;32m<ipython-input-5-e938e7469aa2>\u001b[0m in \u001b[0;36m<module>\u001b[0;34m()\u001b[0m\n\u001b[1;32m     28\u001b[0m \u001b[0mF_ini\u001b[0m\u001b[0;34m[\u001b[0m\u001b[0;36m2\u001b[0m\u001b[0;34m,\u001b[0m\u001b[0;34m:\u001b[0m\u001b[0;34m]\u001b[0m\u001b[0;34m=\u001b[0m\u001b[0mu\u001b[0m\u001b[0;34m*\u001b[0m\u001b[0;34m(\u001b[0m\u001b[0me\u001b[0m\u001b[0;34m+\u001b[0m\u001b[0mp\u001b[0m\u001b[0;34m)\u001b[0m\u001b[0;34m\u001b[0m\u001b[0m\n\u001b[1;32m     29\u001b[0m \u001b[0;34m\u001b[0m\u001b[0m\n\u001b[0;32m---> 30\u001b[0;31m \u001b[0mU_final\u001b[0m\u001b[0;34m=\u001b[0m\u001b[0mMac_Cormack\u001b[0m\u001b[0;34m(\u001b[0m\u001b[0mc\u001b[0m\u001b[0;34m,\u001b[0m\u001b[0mgamma\u001b[0m\u001b[0;34m,\u001b[0m\u001b[0mU_ini\u001b[0m\u001b[0;34m,\u001b[0m\u001b[0mF_ini\u001b[0m\u001b[0;34m,\u001b[0m\u001b[0mdx\u001b[0m\u001b[0;34m,\u001b[0m\u001b[0mdt\u001b[0m\u001b[0;34m,\u001b[0m\u001b[0;36m0.0\u001b[0m\u001b[0;34m,\u001b[0m\u001b[0mtmax\u001b[0m\u001b[0;34m)\u001b[0m\u001b[0;34m\u001b[0m\u001b[0m\n\u001b[0m\u001b[1;32m     31\u001b[0m \u001b[0;34m\u001b[0m\u001b[0m\n\u001b[1;32m     32\u001b[0m \u001b[0mrho_final\u001b[0m \u001b[0;34m=\u001b[0m\u001b[0mU_final\u001b[0m\u001b[0;34m[\u001b[0m\u001b[0;36m0\u001b[0m\u001b[0;34m,\u001b[0m\u001b[0;34m:\u001b[0m\u001b[0;34m]\u001b[0m\u001b[0;34m\u001b[0m\u001b[0m\n",
      "\u001b[0;32m<ipython-input-2-7dc3fccc4392>\u001b[0m in \u001b[0;36mMac_Cormack\u001b[0;34m(c, gamma, U, F, dx, dt, t_ini, t_fin)\u001b[0m\n\u001b[1;32m     11\u001b[0m                 \u001b[0;32mprint\u001b[0m \u001b[0mstr\u001b[0m\u001b[0;34m(\u001b[0m\u001b[0mt\u001b[0m\u001b[0;34m)\u001b[0m\u001b[0;34m+\u001b[0m\u001b[0;34m':\\n'\u001b[0m\u001b[0;34m\u001b[0m\u001b[0m\n\u001b[1;32m     12\u001b[0m                 \u001b[0mU_temp\u001b[0m\u001b[0;34m[\u001b[0m\u001b[0;34m:\u001b[0m\u001b[0;34m,\u001b[0m\u001b[0;36m1\u001b[0m\u001b[0;34m:\u001b[0m\u001b[0;34m-\u001b[0m\u001b[0;36m1\u001b[0m\u001b[0;34m]\u001b[0m\u001b[0;34m=\u001b[0m\u001b[0mU\u001b[0m\u001b[0;34m[\u001b[0m\u001b[0;34m:\u001b[0m\u001b[0;34m,\u001b[0m\u001b[0;36m1\u001b[0m\u001b[0;34m:\u001b[0m\u001b[0;34m-\u001b[0m\u001b[0;36m1\u001b[0m\u001b[0;34m]\u001b[0m\u001b[0;34m-\u001b[0m\u001b[0mdt\u001b[0m\u001b[0;34m*\u001b[0m\u001b[0;34m(\u001b[0m\u001b[0mF\u001b[0m\u001b[0;34m[\u001b[0m\u001b[0;34m:\u001b[0m\u001b[0;34m,\u001b[0m\u001b[0;36m2\u001b[0m\u001b[0;34m:\u001b[0m\u001b[0;34m]\u001b[0m\u001b[0;34m-\u001b[0m\u001b[0mF\u001b[0m\u001b[0;34m[\u001b[0m\u001b[0;34m:\u001b[0m\u001b[0;34m,\u001b[0m\u001b[0;36m1\u001b[0m\u001b[0;34m:\u001b[0m\u001b[0;34m-\u001b[0m\u001b[0;36m1\u001b[0m\u001b[0;34m]\u001b[0m\u001b[0;34m)\u001b[0m\u001b[0;34m/\u001b[0m\u001b[0mdx\u001b[0m\u001b[0;34m\u001b[0m\u001b[0m\n\u001b[0;32m---> 13\u001b[0;31m                 \u001b[0mF_temp\u001b[0m\u001b[0;34m=\u001b[0m\u001b[0mget_F\u001b[0m\u001b[0;34m(\u001b[0m\u001b[0mU_temp\u001b[0m\u001b[0;34m,\u001b[0m\u001b[0mgamma\u001b[0m\u001b[0;34m)\u001b[0m\u001b[0;34m\u001b[0m\u001b[0m\n\u001b[0m\u001b[1;32m     14\u001b[0m \u001b[0;34m\u001b[0m\u001b[0m\n\u001b[1;32m     15\u001b[0m                 \u001b[0mU_new\u001b[0m\u001b[0;34m[\u001b[0m\u001b[0;34m:\u001b[0m\u001b[0;34m,\u001b[0m\u001b[0;36m1\u001b[0m\u001b[0;34m:\u001b[0m\u001b[0;34m-\u001b[0m\u001b[0;36m1\u001b[0m\u001b[0;34m]\u001b[0m\u001b[0;34m=\u001b[0m\u001b[0;34m(\u001b[0m\u001b[0mU\u001b[0m\u001b[0;34m[\u001b[0m\u001b[0;34m:\u001b[0m\u001b[0;34m,\u001b[0m\u001b[0;36m1\u001b[0m\u001b[0;34m:\u001b[0m\u001b[0;34m-\u001b[0m\u001b[0;36m1\u001b[0m\u001b[0;34m]\u001b[0m\u001b[0;34m+\u001b[0m\u001b[0mU_temp\u001b[0m\u001b[0;34m[\u001b[0m\u001b[0;34m:\u001b[0m\u001b[0;34m,\u001b[0m\u001b[0;36m1\u001b[0m\u001b[0;34m:\u001b[0m\u001b[0;34m-\u001b[0m\u001b[0;36m1\u001b[0m\u001b[0;34m]\u001b[0m\u001b[0;34m-\u001b[0m\u001b[0mdt\u001b[0m\u001b[0;34m*\u001b[0m\u001b[0;34m(\u001b[0m\u001b[0mF_temp\u001b[0m\u001b[0;34m[\u001b[0m\u001b[0;34m:\u001b[0m\u001b[0;34m,\u001b[0m\u001b[0;36m1\u001b[0m\u001b[0;34m:\u001b[0m\u001b[0;34m-\u001b[0m\u001b[0;36m1\u001b[0m\u001b[0;34m]\u001b[0m\u001b[0;34m-\u001b[0m\u001b[0mF_temp\u001b[0m\u001b[0;34m[\u001b[0m\u001b[0;34m:\u001b[0m\u001b[0;34m,\u001b[0m\u001b[0;36m0\u001b[0m\u001b[0;34m:\u001b[0m\u001b[0;34m-\u001b[0m\u001b[0;36m2\u001b[0m\u001b[0;34m]\u001b[0m\u001b[0;34m)\u001b[0m\u001b[0;34m/\u001b[0m\u001b[0mdx\u001b[0m\u001b[0;34m)\u001b[0m\u001b[0;34m/\u001b[0m\u001b[0;36m2.0\u001b[0m\u001b[0;34m\u001b[0m\u001b[0m\n",
      "\u001b[0;32m<ipython-input-3-013e2270b35b>\u001b[0m in \u001b[0;36mget_F\u001b[0;34m(U, gamma)\u001b[0m\n\u001b[1;32m     12\u001b[0m     \u001b[0;32mprint\u001b[0m \u001b[0;34m'rho:\\n'\u001b[0m\u001b[0;34m+\u001b[0m\u001b[0mstr\u001b[0m\u001b[0;34m(\u001b[0m\u001b[0mrho\u001b[0m\u001b[0;34m)\u001b[0m\u001b[0;34m\u001b[0m\u001b[0m\n\u001b[1;32m     13\u001b[0m     \u001b[0;32mprint\u001b[0m \u001b[0;34m'p:\\n'\u001b[0m\u001b[0;34m+\u001b[0m\u001b[0mstr\u001b[0m\u001b[0;34m(\u001b[0m\u001b[0mp\u001b[0m\u001b[0;34m)\u001b[0m\u001b[0;34m\u001b[0m\u001b[0m\n\u001b[0;32m---> 14\u001b[0;31m     \u001b[0mraw_input\u001b[0m\u001b[0;34m(\u001b[0m\u001b[0;34m)\u001b[0m\u001b[0;34m\u001b[0m\u001b[0m\n\u001b[0m\u001b[1;32m     15\u001b[0m     \u001b[0;32mreturn\u001b[0m \u001b[0mF\u001b[0m\u001b[0;34m\u001b[0m\u001b[0m\n",
      "\u001b[0;32m/home/canrilo/anaconda2/lib/python2.7/site-packages/ipykernel/kernelbase.pyc\u001b[0m in \u001b[0;36mraw_input\u001b[0;34m(self, prompt)\u001b[0m\n\u001b[1;32m    692\u001b[0m             \u001b[0mself\u001b[0m\u001b[0;34m.\u001b[0m\u001b[0m_parent_ident\u001b[0m\u001b[0;34m,\u001b[0m\u001b[0;34m\u001b[0m\u001b[0m\n\u001b[1;32m    693\u001b[0m             \u001b[0mself\u001b[0m\u001b[0;34m.\u001b[0m\u001b[0m_parent_header\u001b[0m\u001b[0;34m,\u001b[0m\u001b[0;34m\u001b[0m\u001b[0m\n\u001b[0;32m--> 694\u001b[0;31m             \u001b[0mpassword\u001b[0m\u001b[0;34m=\u001b[0m\u001b[0mFalse\u001b[0m\u001b[0;34m,\u001b[0m\u001b[0;34m\u001b[0m\u001b[0m\n\u001b[0m\u001b[1;32m    695\u001b[0m         )\n\u001b[1;32m    696\u001b[0m \u001b[0;34m\u001b[0m\u001b[0m\n",
      "\u001b[0;32m/home/canrilo/anaconda2/lib/python2.7/site-packages/ipykernel/kernelbase.pyc\u001b[0m in \u001b[0;36m_input_request\u001b[0;34m(self, prompt, ident, parent, password)\u001b[0m\n\u001b[1;32m    722\u001b[0m             \u001b[0;32mexcept\u001b[0m \u001b[0mKeyboardInterrupt\u001b[0m\u001b[0;34m:\u001b[0m\u001b[0;34m\u001b[0m\u001b[0m\n\u001b[1;32m    723\u001b[0m                 \u001b[0;31m# re-raise KeyboardInterrupt, to truncate traceback\u001b[0m\u001b[0;34m\u001b[0m\u001b[0;34m\u001b[0m\u001b[0m\n\u001b[0;32m--> 724\u001b[0;31m                 \u001b[0;32mraise\u001b[0m \u001b[0mKeyboardInterrupt\u001b[0m\u001b[0;34m\u001b[0m\u001b[0m\n\u001b[0m\u001b[1;32m    725\u001b[0m             \u001b[0;32melse\u001b[0m\u001b[0;34m:\u001b[0m\u001b[0;34m\u001b[0m\u001b[0m\n\u001b[1;32m    726\u001b[0m                 \u001b[0;32mbreak\u001b[0m\u001b[0;34m\u001b[0m\u001b[0m\n",
      "\u001b[0;31mKeyboardInterrupt\u001b[0m: "
     ]
    }
   ],
   "source": [
    "dx=0.05\n",
    "dt=0.00001\n",
    "tmax=1.0\n",
    "c=2.0\n",
    "xsteps=int(1/dx)+1\n",
    "gamma=1.4\n",
    "x=np.linspace(0,1,xsteps)\n",
    "u=np.zeros(np.shape(x))\n",
    "\n",
    "rho=u.copy()\n",
    "rho[x<=0.5]=1.0\n",
    "rho[x>0.5]=0.125\n",
    "\n",
    "p=u.copy()\n",
    "p[x<=0.5]=1.0\n",
    "p[x>0.5]=0.1\n",
    "\n",
    "e=get_e(gamma,rho,u,p)\n",
    "\n",
    "U_ini=np.zeros([3,np.shape(x)[0]])\n",
    "U_ini[0,:]=rho.copy()\n",
    "U_ini[1,:]=rho*u\n",
    "U_ini[2,:]=e.copy()\n",
    "\n",
    "F_ini=np.zeros([3,np.shape(x)[0]])\n",
    "F_ini[0,:]=u*rho\n",
    "F_ini[1,:]=rho*(u**2)+p\n",
    "F_ini[2,:]=u*(e+p)\n",
    "\n",
    "U_final=Mac_Cormack(c,gamma,U_ini,F_ini,dx,dt,0.0,tmax)\n",
    "\n",
    "rho_final =U_final[0,:]\n",
    "u_final = safe_div(U_final[1,:],rho_final)#U_final[1,:]/rho_final\n",
    "e_final = U_final[2,:]\n",
    "p_final=(gamma-1)*(e_final-rho_final*(u_final**2)/2.0)\n",
    "\n",
    "fig = plt.figure()\n",
    "\n",
    "axu = fig.add_subplot(311)\n",
    "axu.plot(x,u)\n",
    "axu.plot(x,u_final)\n",
    "axu.set_title('u')\n",
    "\n",
    "axp = fig.add_subplot(312)\n",
    "axp.plot(x,p)\n",
    "axp.plot(x,p_final)\n",
    "axp.set_title('p')\n",
    "\n",
    "axr = fig.add_subplot(313)\n",
    "axr.plot(x,rho)\n",
    "axr.plot(x,rho_final)\n",
    "axr.set_title('rho')\n",
    "\n",
    "plt.show()"
   ]
  },
  {
   "cell_type": "code",
   "execution_count": null,
   "metadata": {
    "collapsed": true
   },
   "outputs": [],
   "source": []
  }
 ],
 "metadata": {
  "kernelspec": {
   "display_name": "Python 2",
   "language": "python",
   "name": "python2"
  },
  "language_info": {
   "codemirror_mode": {
    "name": "ipython",
    "version": 2
   },
   "file_extension": ".py",
   "mimetype": "text/x-python",
   "name": "python",
   "nbconvert_exporter": "python",
   "pygments_lexer": "ipython2",
   "version": "2.7.13"
  }
 },
 "nbformat": 4,
 "nbformat_minor": 2
}
