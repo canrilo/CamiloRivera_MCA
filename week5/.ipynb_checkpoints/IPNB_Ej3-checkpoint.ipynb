{
 "cells": [
  {
   "cell_type": "code",
   "execution_count": 1,
   "metadata": {
    "collapsed": false
   },
   "outputs": [
    {
     "name": "stdout",
     "output_type": "stream",
     "text": [
      "Populating the interactive namespace from numpy and matplotlib\n"
     ]
    }
   ],
   "source": [
    "import numpy as np\n",
    "#import matplotlib.pyplot as plt\n",
    "%pylab inline"
   ]
  },
  {
   "cell_type": "code",
   "execution_count": 2,
   "metadata": {
    "collapsed": true
   },
   "outputs": [],
   "source": [
    "def Mac_Cormack(c,var_gamma,U,F,dx,dt, t_ini,t_fin):\n",
    "\tU_temp=U.copy()\n",
    "\tF_temp=F.copy()\n",
    "\t\n",
    "\tU_new=U.copy()\n",
    "\tF_new=F.copy()\n",
    "\t\n",
    "\tt=t_ini\n",
    "\t\n",
    "\twhile t<t_fin:\n",
    "\t\tU_temp[:,1:-1]=U[:,1:-1]-dt*(F[:,2:]-F[:,1:-1])/dx\n",
    "\t\tF_temp=get_F(U_temp,var_gamma)\n",
    "\t\t\n",
    "\t\tU_new[:,1:-1]=(U[:,1:-1]+U_temp[:,1:-1]-dt*(F_temp[:,1:-1]-F_temp[:,0:-2])/dx)/2.0\n",
    "\t\tF_new= get_F(U_new,var_gamma)\n",
    "\t\t\n",
    "\t\tF=F_new.copy()\n",
    "\t\tU=U_new.copy()\n",
    "\t\t\n",
    "\t\tdt=get_dt(U,var_gamma,c,dx)\n",
    "\t\t\n",
    "\t\t#dt=min(dt,10*dx)\n",
    "\t\t\n",
    "\t\tif False:\n",
    "\t\t\tprint str(t) + ' + ' + str(dt) + ':\\n'\n",
    "\t\t\tprint 'U:\\n'\n",
    "\t\t\tprint U\n",
    "\t\t\tprint '\\n F:\\n'\n",
    "\t\t\tprint F\n",
    "\t\t\traw_input()\n",
    "\t\t\tprint '---------------\\n'\n",
    "\t\t\n",
    "\t\tt+=dt\n",
    "\treturn U \n"
   ]
  },
  {
   "cell_type": "code",
   "execution_count": 3,
   "metadata": {
    "collapsed": true
   },
   "outputs": [],
   "source": [
    "def get_dt(U, var_gamma,C,dx):\n",
    "\trho=U[0,:]\n",
    "\tenerg=U[2,:]\n",
    "\tu=safe_div(U[1,:],rho)\n",
    "\tp=(var_gamma-1.0)*(energ-rho*(u**2)/2.0)\n",
    "\tA=(safe_div(np.abs(p),np.abs(rho))*var_gamma)**(0.5)\n",
    "\tdt=dx/(C*(max(abs(u))+max(A)))\n",
    "\tif False:\n",
    "\t\tprint 'dt:\\n' + str(dt) + '\\n'\n",
    "\t\tprint 'u:\\n'+str(u)\n",
    "\t\tprint 'rho:\\n'+str(rho)\n",
    "\t\tprint 'p:\\n'+str(p)\n",
    "\t\tprint 'e:\\n'+str(energ)\n",
    "\t\tprint '--------------------------\\n'\n",
    "\t\traw_input()\n",
    "\treturn dt\n",
    "\n",
    "def get_F(U,var_gamma):\n",
    "\trho=U[0,:]\n",
    "\t#u=U[1,:]/rho\n",
    "\tu=safe_div(U[1,:],rho)\n",
    "\tenerg=U[2,:]\n",
    "\tp=(var_gamma-1.0)*(energ-rho*(u**2)/2.0)\n",
    "\tF=np.zeros(np.shape(U))\n",
    "\tF[0,:]=U[1,:]\n",
    "\tF[1,:]=U[1,:]*u+p\n",
    "\tF[2,:]=u*(energ+p)\n",
    "\tif False:\n",
    "\t\tprint 'u:\\n'+str(u)\n",
    "\t\tprint 'rho:\\n'+str(rho)\n",
    "\t\tprint 'p:\\n'+str(p)\n",
    "\t\tprint 'e:\\n'+str(energ)\n",
    "\t\tprint '--------------------------\\n'\n",
    "\t\traw_input()\n",
    "\treturn F"
   ]
  },
  {
   "cell_type": "code",
   "execution_count": 4,
   "metadata": {
    "collapsed": true
   },
   "outputs": [],
   "source": [
    "def get_e(var_gamma, rho,u,p):\n",
    "\tu2=u**2\n",
    "\tenerg=p/(var_gamma-1.0)+rho*u2/(2.0)\n",
    "\treturn energ\n",
    "\n",
    "def safe_div(num,denom):\n",
    "\tans=num.copy()\n",
    "\tfor i in range(len(num)):\n",
    "\t\tif denom[i]!=0.0:\n",
    "\t\t\tans[i]=num[i]/denom[i]\n",
    "\treturn ans"
   ]
  },
  {
   "cell_type": "code",
   "execution_count": 16,
   "metadata": {
    "collapsed": false
   },
   "outputs": [],
   "source": [
    "dx=0.05\n",
    "tmax=10.0\n",
    "c=2.0\n",
    "xsteps=int(1/dx)+1\n",
    "var_gamma=1.4\n",
    "R=8.314\n",
    "x=np.linspace(0,1,xsteps)\n",
    "u=np.zeros(np.shape(x))\n",
    "\n",
    "rho=u.copy()\n",
    "rho[x<=0.5]=1.0\n",
    "rho[x>0.5]=0.125\n",
    "\n",
    "p=u.copy()\n",
    "p[x<=0.5]=1.0\n",
    "p[x>0.5]=0.1\n",
    "\n",
    "energ=get_e(var_gamma,rho,u,p)\n",
    "\n",
    "U_ini=np.zeros([3,np.shape(x)[0]])\n",
    "U_ini[0,:]=rho#.copy()\n",
    "U_ini[1,:]=rho*u\n",
    "U_ini[2,:]=energ#.copy()\n",
    "\n",
    "dt=get_dt(U_ini,var_gamma,c,dx)\n",
    "\n",
    "F_ini= get_F(U_ini,var_gamma)"
   ]
  },
  {
   "cell_type": "code",
   "execution_count": 17,
   "metadata": {
    "collapsed": false
   },
   "outputs": [],
   "source": [
    "U_final=Mac_Cormack(c,var_gamma,U_ini,F_ini,dx,dt,0.0,tmax)\n",
    "\n",
    "rho_final =U_final[0,:]\n",
    "u_final = safe_div(U_final[1,:],rho_final)#U_final[1,:]/rho_final\n",
    "e_final = U_final[2,:]\n",
    "p_final=(var_gamma-1.0)*(e_final-rho_final*(u_final**2)/2.0)\n"
   ]
  },
  {
   "cell_type": "code",
   "execution_count": 18,
   "metadata": {
    "collapsed": false
   },
   "outputs": [
    {
     "data": {
      "image/png": "[encoded data removed]",
      "text/plain": [
       "<matplotlib.figure.Figure at 0x7f09869ff610>"
      ]
     },
     "metadata": {},
     "output_type": "display_data"
    }
   ],
   "source": [
    "fig = plt.figure()\n",
    "\n",
    "axu = fig.add_subplot(311)\n",
    "axu.plot(x,u)\n",
    "axu.plot(x,u_final)\n",
    "axu.set_title('u')\n",
    "\n",
    "axp = fig.add_subplot(312)\n",
    "axp.plot(x,p)\n",
    "axp.plot(x,p_final)\n",
    "axp.set_title('p')\n",
    "\n",
    "axr = fig.add_subplot(313)\n",
    "axr.plot(x,rho)\n",
    "axr.plot(x,rho_final)\n",
    "axr.set_title('rho')\n",
    "\n",
    "plt.show()"
   ]
  },
  {
   "cell_type": "code",
   "execution_count": 12,
   "metadata": {
    "collapsed": false
   },
   "outputs": [
    {
     "data": {
      "text/plain": [
       "array([ 1. ,  1. ,  1. ,  1. ,  1. ,  1. ,  1. ,  1. ,  1. ,  1. ,  1. ,\n",
       "        0.1,  0.1,  0.1,  0.1,  0.1,  0.1,  0.1,  0.1,  0.1,  0.1])"
      ]
     },
     "execution_count": 12,
     "metadata": {},
     "output_type": "execute_result"
    }
   ],
   "source": [
    "p"
   ]
  },
  {
   "cell_type": "code",
   "execution_count": null,
   "metadata": {
    "collapsed": true
   },
   "outputs": [],
   "source": []
  }
 ],
 "metadata": {
  "kernelspec": {
   "display_name": "Python 2",
   "language": "python",
   "name": "python2"
  },
  "language_info": {
   "codemirror_mode": {
    "name": "ipython",
    "version": 2
   },
   "file_extension": ".py",
   "mimetype": "text/x-python",
   "name": "python",
   "nbconvert_exporter": "python",
   "pygments_lexer": "ipython2",
   "version": "2.7.12"
  }
 },
 "nbformat": 4,
 "nbformat_minor": 2
}
