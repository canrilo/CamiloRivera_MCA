{
 "cells": [
  {
   "cell_type": "code",
   "execution_count": 2,
   "metadata": {
    "collapsed": true
   },
   "outputs": [],
   "source": [
    "import numpy as np\n",
    "import matplotlib.pyplot as plt\n",
    "from sklearn import svm\n",
    "from sklearn import datasets\n",
    "from sklearn.datasets import make_classification\n",
    "from sklearn.datasets import make_blobs, make_moons, make_circles\n",
    "from sklearn.model_selection import train_test_split\n",
    "from sklearn import preprocessing\n",
    "from sklearn.model_selection import cross_val_score\n",
    "from sklearn.metrics import confusion_matrix\n",
    "%matplotlib inline"
   ]
  },
  {
   "cell_type": "code",
   "execution_count": 3,
   "metadata": {
    "collapsed": false
   },
   "outputs": [],
   "source": [
    "data = datasets.load_breast_cancer()\n",
    "X = data.data\n",
    "scaler = preprocessing.StandardScaler().fit(X)\n",
    "X=scaler.transform(X)\n",
    "Y = data.target\n",
    "\n",
    "num_data=np.shape(Y)[0]\n",
    "train_index= int(num_data*0.8)\n",
    "Training_X = X[:train_index,:] \n",
    "Training_Y =Y[:train_index] \n",
    "Validation_X = X[train_index:]\n",
    "Validation_Y = Y[train_index:]"
   ]
  },
  {
   "cell_type": "code",
   "execution_count": 4,
   "metadata": {
    "collapsed": false
   },
   "outputs": [],
   "source": [
    "#linear\n",
    "iterations= 4\n",
    "Cs=np.linspace(0.001,5,num=20)\n",
    "Res = np.zeros([len(Cs),2])\n",
    "for (C,i) in zip(Cs,range(len(Cs))):\n",
    "    for j in range(iterations):\n",
    "        X_train, X_test, Y_train, Y_test = train_test_split(Training_X, Training_Y, random_state=42)\n",
    "        clsf = svm.SVC(C=C, kernel='linear')\n",
    "        clsf.fit(X_train,Y_train)\n",
    "        Y_hat=clsf.predict(X_test)\n",
    "        cf_mtrx=confusion_matrix(Y_test,Y_hat)\n",
    "        #score = (float)(cf_mtrx[0,0]+cf_mtrx[1,1]-cf_mtrx[1,0])/len(Y_test)\n",
    "        #score = clsf.score(X_test, Y_test)\n",
    "        Res[i,0]=Res[i,0]+(float)(cf_mtrx[0,0]+cf_mtrx[1,1])/(len(Y_test)*iterations)\n",
    "        Res[i,1]=Res[i,1]+(float)(cf_mtrx[1,0])/(len(Y_test)*iterations)\n"
   ]
  },
  {
   "cell_type": "code",
   "execution_count": 5,
   "metadata": {
    "collapsed": false
   },
   "outputs": [
    {
     "data": {
      "text/plain": [
       "<matplotlib.collections.PathCollection at 0x7f496280db50>"
      ]
     },
     "execution_count": 5,
     "metadata": {},
     "output_type": "execute_result"
    },
    {
     "data": {
      "image/png": "[encoded data removed]",
      "text/plain": [
       "<matplotlib.figure.Figure at 0x7f4965e03bd0>"
      ]
     },
     "metadata": {},
     "output_type": "display_data"
    }
   ],
   "source": [
    "plt.scatter(Res[:,0],Res[:,1])\n",
    "#plt.xlim([-0.001,1.0001])\n",
    "#plt.ylim([-0.001,1.0001])"
   ]
  },
  {
   "cell_type": "markdown",
   "metadata": {},
   "source": [
    "## Para Kernel Lineal el mejor desempeño promedio se ve con un C muy pequeño, en este caso se dio de C=0.26 con Aciertos en 0.974 y Falsos Positivos de 0.008.\n",
    "\n",
    "## Sin embargo, también se vio con C=0.001 aciertos de 0.965 y Falsos positivos de 0"
   ]
  },
  {
   "cell_type": "code",
   "execution_count": 6,
   "metadata": {
    "collapsed": false
   },
   "outputs": [],
   "source": [
    "#gauss\n",
    "iterations = 4\n",
    "Cs=np.linspace(0.001,5,num=20)\n",
    "Gammas = np.linspace(0.001,5,num=20)\n",
    "Resg = np.zeros([len(Cs)*len(Gammas),2])\n",
    "i = 0\n",
    "for C in Cs:\n",
    "    for gamma in Gammas:\n",
    "        for j in range(iterations):\n",
    "            X_train, X_test, Y_train, Y_test = train_test_split(Training_X, Training_Y, random_state=42)\n",
    "            clsf = svm.SVC(C=C, kernel='rbf', gamma=gamma)#, degree=deg)\n",
    "            #cross_val_score(clsf,Training_X,Training_Y,cv=5)\n",
    "            clsf.fit(X_train,Y_train)\n",
    "            #clsf.score(X_test,Y_test)\n",
    "            Y_hat=clsf.predict(X_test)\n",
    "            cf_mtrx=confusion_matrix(Y_test,Y_hat)\n",
    "            #score = (float)(cf_mtrx[0,0]+cf_mtrx[1,1]-cf_mtrx[1,0])/len(Y_test)\n",
    "            #score = clsf.score(X_test, Y_test)\n",
    "            Resg[i,0]=Resg[i,0]+(float)(cf_mtrx[0,0]+cf_mtrx[1,1])/(len(Y_test)*iterations)\n",
    "            Resg[i,1]=Resg[i,1]+(float)(cf_mtrx[1,0])/(len(Y_test)*iterations)\n",
    "        i=i+1"
   ]
  },
  {
   "cell_type": "code",
   "execution_count": 7,
   "metadata": {
    "collapsed": false
   },
   "outputs": [
    {
     "data": {
      "text/plain": [
       "<matplotlib.collections.PathCollection at 0x7f4962703750>"
      ]
     },
     "execution_count": 7,
     "metadata": {},
     "output_type": "execute_result"
    },
    {
     "data": {
      "image/png": "[encoded data removed]",
      "text/plain": [
       "<matplotlib.figure.Figure at 0x7f49627ca090>"
      ]
     },
     "metadata": {},
     "output_type": "display_data"
    }
   ],
   "source": [
    "plt.scatter(Resg[:,0],Resg[:,1])\n",
    "#plt.xlim([-0.001,1.0001])\n",
    "#plt.ylim([-0.001,1.0001])"
   ]
  },
  {
   "cell_type": "markdown",
   "metadata": {},
   "source": [
    "## Para el caso del Kernel Gaussiano se vieron resultados ligeramente más hetereogéneos al jugar con el Gamma y con el C. La mejor combinación obtenida fue de C=1.58 y $\\gamma$=0.001 , para los cuales se obtuvo un puntaje de aciertos de 0.9824 y Falsos positivos=0"
   ]
  },
  {
   "cell_type": "code",
   "execution_count": 27,
   "metadata": {
    "collapsed": false,
    "scrolled": false
   },
   "outputs": [],
   "source": [
    "#Poly\n",
    "Cs=np.linspace(0.001,5,num=15)\n",
    "Degs = np.linspace(1,10,15)\n",
    "Resp = np.zeros([len(Cs)*len(Gammas),2])\n",
    "i = 0\n",
    "for C in Cs:\n",
    "    for degg in Degs:\n",
    "        for j in range(iterations):\n",
    "            X_train, X_test, Y_train, Y_test = train_test_split(Training_X, Training_Y, random_state=42)\n",
    "            clsf = svm.SVC(C=C, kernel='poly', degree=degg)\n",
    "            #cross_val_score(clsf,Training_X,Training_Y,cv=5)\n",
    "            clsf.fit(X_train,Y_train)\n",
    "            #clsf.score(X_test,Y_test)\n",
    "            Y_hat=clsf.predict(X_test)\n",
    "            cf_mtrx=confusion_matrix(Y_test,Y_hat)\n",
    "            #score = (float)(cf_mtrx[0,0]+cf_mtrx[1,1]-cf_mtrx[1,0])/len(Y_test)\n",
    "            #score = clsf.score(X_test, Y_test)\n",
    "            Resp[i,0]=Resp[i,0]+(float)(cf_mtrx[0,0]+cf_mtrx[1,1])/(len(Y_test)*iterations)\n",
    "            Resp[i,1]=Resp[i,1]+(float)(cf_mtrx[1,0])/(len(Y_test)*iterations)\n",
    "        i=i+1"
   ]
  },
  {
   "cell_type": "code",
   "execution_count": 28,
   "metadata": {
    "collapsed": false
   },
   "outputs": [
    {
     "data": {
      "text/plain": [
       "<matplotlib.collections.PathCollection at 0x7f49624f8e50>"
      ]
     },
     "execution_count": 28,
     "metadata": {},
     "output_type": "execute_result"
    },
    {
     "data": {
      "image/png": "[encoded data removed]",
      "text/plain": [
       "<matplotlib.figure.Figure at 0x7f49625b9950>"
      ]
     },
     "metadata": {},
     "output_type": "display_data"
    }
   ],
   "source": [
    "plt.scatter(Resp[:,0],Resp[:,1])"
   ]
  },
  {
   "cell_type": "markdown",
   "metadata": {},
   "source": [
    "## Finalmente, con el fit polinomial se hizo un recorrido con polinomios de orden 1 a 15. El mayor scores de aciertos obtenido fue de 0.9824, pero con falsos positivos de 0.009, esto con orden de polinomio 1 y C=1.072. El grado de aciertos mayor con Falsos positivos=0, fue de 0.956. Cabe resaltar que estas métricas no son únicas de una combinación de variables, pero las aquí enunciadas son la de menor complejidad"
   ]
  },
  {
   "cell_type": "markdown",
   "metadata": {},
   "source": [
    "# Estudiando las métricas obtenidas se decide realizar una SVM con kernel gaussiano, con gamma=0.001 y C=1.58. Para todas las pruebas se realizaron 4 folds con los datos y se promediaron los resultados."
   ]
  },
  {
   "cell_type": "code",
   "execution_count": 42,
   "metadata": {
    "collapsed": false
   },
   "outputs": [
    {
     "name": "stdout",
     "output_type": "stream",
     "text": [
      "(0.9824561403508771, 0.008771929824561403)\n"
     ]
    }
   ],
   "source": [
    "clsf = svm.SVC(C=1.58, kernel='rbf', gamma=0.001)\n",
    "clsf.fit(Training_X,Training_Y)\n",
    "Y_hat=clsf.predict(Validation_X)\n",
    "cf_mtrx=confusion_matrix(Validation_Y,Y_hat)\n",
    "Aciertos=(float)(cf_mtrx[0,0]+cf_mtrx[1,1])/(len(Validation_Y))\n",
    "FalsosP=(float)(cf_mtrx[1,0])/(len(Validation_Y))\n",
    "print(Aciertos,FalsosP)"
   ]
  },
  {
   "cell_type": "markdown",
   "metadata": {},
   "source": [
    "# Los resultados obtenidos con esta SVM son de Aciertos=0.9824 y Falsos Positivos de 0.009"
   ]
  }
 ],
 "metadata": {
  "kernelspec": {
   "display_name": "Python 2",
   "language": "python",
   "name": "python2"
  },
  "language_info": {
   "codemirror_mode": {
    "name": "ipython",
    "version": 2
   },
   "file_extension": ".py",
   "mimetype": "text/x-python",
   "name": "python",
   "nbconvert_exporter": "python",
   "pygments_lexer": "ipython2",
   "version": "2.7.13"
  }
 },
 "nbformat": 4,
 "nbformat_minor": 2
}
